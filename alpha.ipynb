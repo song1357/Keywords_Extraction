{
 "cells": [
  {
   "cell_type": "code",
   "execution_count": 1,
   "metadata": {},
   "outputs": [],
   "source": [
    "import pandas as pd\n",
    "source_file = 'D:\\\\GoalYeah_Tasks\\\\1_15\\\\Keywords_Extraction\\\\输入1.xlsx'\n",
    "dict_file = \"D:\\\\GoalYeah_Tasks\\\\1_15\\\\Keywords_Extraction\\\\输入2.xlsx\"\n",
    "# 读取Excel文件\n",
    "source_df = pd.read_excel(source_file, sheet_name=0)\n",
    "dict_df = pd.read_excel(dict_file, sheet_name=0)"
   ]
  },
  {
   "cell_type": "code",
   "execution_count": null,
   "metadata": {},
   "outputs": [],
   "source": [
    "# 初始化结果列表\n",
    "results = []"
   ]
  },
  {
   "cell_type": "code",
   "execution_count": 8,
   "metadata": {},
   "outputs": [
    {
     "name": "stdout",
     "output_type": "stream",
     "text": [
      "零师傅烘焙坊\n",
      "清香西饼屋\n",
      "金麦蛋糕\n",
      "指尖甜心蛋糕\n",
      "一品香蛋糕\n",
      "多麦多烘焙\n",
      "金莎蛋糕店\n",
      "欧风时尚蛋糕\n",
      "童话王子\n",
      "雅意轩蛋糕店\n",
      "米兰蛋糕\n",
      "幸福起点蛋糕\n",
      "八度蛋糕\n",
      "趣多多烘焙\n",
      "夕夏巴黎\n",
      "面包西饼\n",
      "妙旺角生日蛋糕\n",
      "麦卡淇蛋糕\n",
      "兴隆蛋糕店\n",
      "洋洋家蛋糕店\n",
      "半亩甜蛋糕店\n",
      "幸福糕点\n",
      "爱丽斯蛋糕\n",
      "日昌饼屋\n",
      "广隆蛋挞王\n",
      "麦园蛋糕\n",
      "福田蛋糕先生\n",
      "江南糕点\n",
      "雀巢冰淇淋原料蛋糕\n",
      "汤福记糕点\n",
      "金典蛋糕\n",
      "心点蛋糕\n",
      "达妃雅法式烘焙\n",
      "尚品烘焙\n",
      "麦香源蛋糕坊\n",
      "雅轩蛋糕\n",
      "黄氏甜品\n",
      "超级魔厨\n"
     ]
    }
   ],
   "source": [
    "for _, source_row in dict_df.iterrows():\n",
    "    print(source_row['标签'])"
   ]
  }
 ],
 "metadata": {
  "kernelspec": {
   "display_name": "base",
   "language": "python",
   "name": "python3"
  },
  "language_info": {
   "codemirror_mode": {
    "name": "ipython",
    "version": 3
   },
   "file_extension": ".py",
   "mimetype": "text/x-python",
   "name": "python",
   "nbconvert_exporter": "python",
   "pygments_lexer": "ipython3",
   "version": "3.12.3"
  }
 },
 "nbformat": 4,
 "nbformat_minor": 2
}
